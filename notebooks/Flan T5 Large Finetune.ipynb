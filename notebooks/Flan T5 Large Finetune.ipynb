{
  "nbformat": 4,
  "nbformat_minor": 0,
  "metadata": {
    "colab": {
      "provenance": [],
      "gpuType": "A100",
      "machine_shape": "hm"
    },
    "kernelspec": {
      "name": "python3",
      "display_name": "Python 3"
    },
    "language_info": {
      "name": "python"
    },
    "accelerator": "GPU"
  },
  "cells": [
    {
      "cell_type": "code",
      "execution_count": null,
      "metadata": {
        "id": "ay3eaOEpDaAD"
      },
      "outputs": [],
      "source": [
        "from google.colab import files\n",
        "uploaded = files.upload()"
      ]
    },
    {
      "cell_type": "code",
      "source": [
        "!unzip stance.zip"
      ],
      "metadata": {
        "collapsed": true,
        "id": "nvi54bYTEZJ6"
      },
      "execution_count": null,
      "outputs": []
    },
    {
      "cell_type": "code",
      "source": [
        "ls"
      ],
      "metadata": {
        "id": "JI9H3gmdIsZ5"
      },
      "execution_count": null,
      "outputs": []
    },
    {
      "cell_type": "code",
      "source": [
        "rm -rf stance.zip"
      ],
      "metadata": {
        "id": "PoM_MpndNcBY"
      },
      "execution_count": null,
      "outputs": []
    },
    {
      "cell_type": "code",
      "source": [
        "!pip install transformers datasets torch pandas scikit-learn"
      ],
      "metadata": {
        "collapsed": true,
        "id": "JYFk3IKsEe73"
      },
      "execution_count": null,
      "outputs": []
    },
    {
      "cell_type": "code",
      "source": [
        "import os\n",
        "os.chdir('/content/stance')\n",
        "os.environ[\"WANDB_DISABLED\"] = \"true\"\n",
        "\n",
        "import sys\n",
        "sys.path.append('.')\n",
        "\n",
        "from src.data.data_loader import DataLoader\n",
        "from src.data.data_formatter import DataFormatter\n",
        "from src.models.trainer import ModelTrainer"
      ],
      "metadata": {
        "id": "u5kzWKcOFMH9"
      },
      "execution_count": null,
      "outputs": []
    },
    {
      "cell_type": "code",
      "source": [
        "dl = DataLoader()\n",
        "dl.clean_data()\n",
        "train_df, val_df, test_df = dl.split_data()\n",
        "\n",
        "formatter = DataFormatter()\n",
        "train_examples = formatter.format_for_train(train_df)\n",
        "val_examples = formatter.format_for_train(val_df)\n",
        "\n",
        "print(f\"Data ready: {len(train_examples)} train, {len(val_examples)} val\")"
      ],
      "metadata": {
        "id": "ZhAlZVNbGL36"
      },
      "execution_count": null,
      "outputs": []
    },
    {
      "cell_type": "code",
      "source": [
        "trainer = ModelTrainer()\n",
        "trainer.load_model_tokenizer()\n",
        "trainer.train(train_examples, val_examples)"
      ],
      "metadata": {
        "id": "SYibrUilGV0N"
      },
      "execution_count": null,
      "outputs": []
    },
    {
      "cell_type": "code",
      "source": [
        "ls"
      ],
      "metadata": {
        "id": "Pih0NNFE9Wre"
      },
      "execution_count": null,
      "outputs": []
    },
    {
      "cell_type": "code",
      "source": [
        "!cd /content/stance/models && zip -r best_model.zip best_model"
      ],
      "metadata": {
        "id": "KM8qaN-_KMMA"
      },
      "execution_count": null,
      "outputs": []
    },
    {
      "cell_type": "code",
      "source": [
        "from google.colab import files\n",
        "files.download(\"/content/stance/models/best_model.zip\")"
      ],
      "metadata": {
        "id": "fIfDm0Q5MjpY"
      },
      "execution_count": null,
      "outputs": []
    }
  ]
}